{
 "cells": [
  {
   "cell_type": "code",
   "execution_count": 1,
   "metadata": {},
   "outputs": [],
   "source": [
    "import torch\n",
    "import torch.nn as nn\n",
    "import torch.optim as optim\n",
    "from torch.utils.data import DataLoader\n",
    "from torchvision.datasets import MNIST, SVHN\n",
    "from torchvision.transforms import Compose, ToTensor, Resize, Normalize, Grayscale\n",
    "import numpy as np\n",
    "import matplotlib.pyplot as plt"
   ]
  },
  {
   "cell_type": "code",
   "execution_count": 2,
   "metadata": {},
   "outputs": [],
   "source": [
    "device = 'cuda:1'"
   ]
  },
  {
   "cell_type": "code",
   "execution_count": 3,
   "metadata": {},
   "outputs": [],
   "source": [
    "def weights_init(layer):\n",
    "    classname = layer.__class__.__name__\n",
    "    if classname.find('Conv') != -1:\n",
    "        layer.weight.data.normal_(0.0, 0.02)\n",
    "    elif classname.find('BatchNorm') != -1:\n",
    "        layer.weight.data.normal_(1.0, 0.02)\n",
    "        layer.bias.data.fill_(0)\n",
    "    elif classname.find('Linear') != -1:\n",
    "        size = layer.weight.size()\n",
    "        layer.weight.data.normal_(0.0, 0.1)\n",
    "        layer.bias.data.fill_(0)"
   ]
  },
  {
   "cell_type": "code",
   "execution_count": 4,
   "metadata": {},
   "outputs": [],
   "source": [
    "seed = 0\n",
    "width = 32\n",
    "channels = 3\n",
    "batch_size = 100\n",
    "epochs = 10\n",
    "\n",
    "filters = 64\n",
    "embedding_dim = 128\n",
    "latent_dim = 512\n",
    "lr = 0.0005\n",
    "beta1 = 0.8\n",
    "\n",
    "adv_weight = 0.1\n",
    "alpha = 0.3"
   ]
  },
  {
   "cell_type": "code",
   "execution_count": 5,
   "metadata": {},
   "outputs": [],
   "source": [
    "_ = torch.manual_seed(seed)\n",
    "torch.cuda.manual_seed_all(seed)"
   ]
  },
  {
   "cell_type": "code",
   "execution_count": 6,
   "metadata": {},
   "outputs": [],
   "source": [
    "transform = Compose([Resize(width), Grayscale(channels), ToTensor(), Normalize([0.5]*channels, [0.5]*channels)])"
   ]
  },
  {
   "cell_type": "code",
   "execution_count": 7,
   "metadata": {},
   "outputs": [],
   "source": [
    "source_train = SVHN(root='../datasets/', transform=transform, split='train')\n",
    "source_validation = SVHN(root='../datasets/', transform=transform, split='test')\n",
    "target_train = MNIST(root='../datasets/', train=True, transform=transform)\n",
    "\n",
    "nclasses = len(set(source_train.labels))"
   ]
  },
  {
   "cell_type": "code",
   "execution_count": 8,
   "metadata": {},
   "outputs": [],
   "source": [
    "# Encoder\n",
    "F = nn.Sequential(\n",
    "    nn.Conv2d(channels, filters, 5, 1, 0),\n",
    "    nn.ReLU(inplace=True),\n",
    "    nn.MaxPool2d(2, 2),\n",
    "    nn.Conv2d(filters, filters, 5, 1, 0),\n",
    "    nn.ReLU(inplace=True),\n",
    "    nn.MaxPool2d(2, 2),\n",
    "    nn.Conv2d(filters, embedding_dim, 5, 1,0),\n",
    "    nn.ReLU(inplace=True)\n",
    ").apply(weights_init).to(device)"
   ]
  },
  {
   "cell_type": "code",
   "execution_count": 9,
   "metadata": {},
   "outputs": [],
   "source": [
    "# Generator\n",
    "G = nn.Sequential(\n",
    "    nn.ConvTranspose2d(latent_dim + embedding_dim + nclasses+1, filters*8, 2, 1, 0, bias=False),\n",
    "    nn.BatchNorm2d(filters*8),\n",
    "    nn.ReLU(True),\n",
    "\n",
    "    nn.ConvTranspose2d(filters*8, filters*4, 4, 2, 1, bias=False),\n",
    "    nn.BatchNorm2d(filters*4),\n",
    "    nn.ReLU(True),\n",
    "\n",
    "    nn.ConvTranspose2d(filters*4, filters*2, 4, 2, 1, bias=False),\n",
    "    nn.BatchNorm2d(filters*2),\n",
    "    nn.ReLU(True),\n",
    "\n",
    "    nn.ConvTranspose2d(filters*2, filters, 4, 2, 1, bias=False),\n",
    "    nn.BatchNorm2d(filters),\n",
    "    nn.ReLU(True),\n",
    "\n",
    "    nn.ConvTranspose2d(filters, 3, 4, 2, 1, bias=False),\n",
    "    nn.Tanh()\n",
    ").apply(weights_init).to(device)"
   ]
  },
  {
   "cell_type": "code",
   "execution_count": 10,
   "metadata": {},
   "outputs": [],
   "source": [
    "# ACGAN output\n",
    "class ACModule(nn.Module):\n",
    "    def __init__(self, filters, nclasses):\n",
    "        super(ACModule, self).__init__()\n",
    "        self.filters = filters\n",
    "        self.classifier_c = nn.Sequential(nn.Linear(filters*2, nclasses))              \n",
    "        self.classifier_s = nn.Sequential(\n",
    "            nn.Linear(filters*2, 1), \n",
    "            nn.Sigmoid()\n",
    "        )\n",
    "    def forward(self, x):\n",
    "        real_prob = self.classifier_s(x.view(-1, self.filters*2)).view(-1)\n",
    "        class_prob = self.classifier_c(x.view(-1, self.filters*2))\n",
    "        return real_prob, class_prob"
   ]
  },
  {
   "cell_type": "code",
   "execution_count": 11,
   "metadata": {},
   "outputs": [],
   "source": [
    "# Discriminator\n",
    "D = nn.Sequential(\n",
    "    nn.Conv2d(3, filters, 3, 1, 1),            \n",
    "    nn.BatchNorm2d(filters),\n",
    "    nn.LeakyReLU(0.2, inplace=True),\n",
    "    nn.MaxPool2d(2,2),\n",
    "\n",
    "    nn.Conv2d(filters, filters*2, 3, 1, 1),         \n",
    "    nn.BatchNorm2d(filters*2),\n",
    "    nn.LeakyReLU(0.2, inplace=True),\n",
    "    nn.MaxPool2d(2,2),\n",
    "    \n",
    "\n",
    "    nn.Conv2d(filters*2, filters*4, 3, 1, 1),           \n",
    "    nn.BatchNorm2d(filters*4),\n",
    "    nn.LeakyReLU(0.2, inplace=True),\n",
    "    nn.MaxPool2d(2,2),\n",
    "    \n",
    "    nn.Conv2d(filters*4, filters*2, 3, 1, 1),           \n",
    "    nn.BatchNorm2d(filters*2),\n",
    "    nn.LeakyReLU(0.2, inplace=True),\n",
    "    nn.MaxPool2d(4,4),\n",
    "    ACModule(filters, nclasses)\n",
    ").apply(weights_init).to(device)"
   ]
  },
  {
   "cell_type": "code",
   "execution_count": 12,
   "metadata": {},
   "outputs": [],
   "source": [
    "# Classifier\n",
    "C = nn.Sequential(\n",
    "    nn.Linear(2*filters, 2*filters),\n",
    "    nn.ReLU(inplace=True),\n",
    "    nn.Linear(2*filters, nclasses),      \n",
    ").apply(weights_init).to(device)"
   ]
  },
  {
   "cell_type": "code",
   "execution_count": 13,
   "metadata": {},
   "outputs": [],
   "source": [
    "# AC Loss Functions\n",
    "criterion_clf = nn.CrossEntropyLoss().to(device)\n",
    "criterion_dis = nn.BCELoss().to(device)"
   ]
  },
  {
   "cell_type": "code",
   "execution_count": 14,
   "metadata": {},
   "outputs": [],
   "source": [
    "optimizerD = optim.Adam(D.parameters(), lr=lr, betas=(beta1, 0.999))\n",
    "optimizerG = optim.Adam(G.parameters(), lr=lr, betas=(beta1, 0.999))\n",
    "optimizerF = optim.Adam(F.parameters(), lr=lr, betas=(beta1, 0.999))\n",
    "optimizerC = optim.Adam(C.parameters(), lr=lr, betas=(beta1, 0.999))"
   ]
  },
  {
   "cell_type": "code",
   "execution_count": 15,
   "metadata": {},
   "outputs": [],
   "source": [
    "real_label_val = 1\n",
    "fake_label_val = 0"
   ]
  },
  {
   "cell_type": "code",
   "execution_count": 16,
   "metadata": {},
   "outputs": [],
   "source": [
    "real_labels = torch.FloatTensor(batch_size).fill_(real_label_val).to(device)\n",
    "fake_labels = torch.FloatTensor(batch_size).fill_(fake_label_val).to(device)"
   ]
  },
  {
   "cell_type": "code",
   "execution_count": 17,
   "metadata": {},
   "outputs": [],
   "source": [
    "source_train_loader = DataLoader(source_train, batch_size=batch_size, shuffle=True, drop_last=True)\n",
    "source_validation_loader = DataLoader(source_validation, batch_size=batch_size, shuffle=True, drop_last=False)\n",
    "target_train_loader = DataLoader(target_train, batch_size=batch_size, shuffle=True, drop_last=True)"
   ]
  },
  {
   "cell_type": "code",
   "execution_count": 18,
   "metadata": {},
   "outputs": [],
   "source": [
    "losses = {\n",
    "    'D': [],\n",
    "    'G': [],\n",
    "    'F': [],\n",
    "    'C': []\n",
    "}\n",
    "accuracy = []"
   ]
  },
  {
   "cell_type": "code",
   "execution_count": 19,
   "metadata": {},
   "outputs": [],
   "source": [
    "D.train()\n",
    "G.train()\n",
    "F.train()\n",
    "C.train()\n",
    "for _ in range(epochs):\n",
    "    F.train()\n",
    "    C.train()\n",
    "    for it, (source_batch, target_batch) in enumerate(zip(source_train_loader, target_train_loader)):\n",
    "        '''\n",
    "        Pre-processing\n",
    "        '''\n",
    "        source_images, source_labels = map(lambda v: v.to(device), source_batch)   \n",
    "        target_images, target_labels = map(lambda v: v.to(device), target_batch)\n",
    "        \n",
    "        # compute one-hot vectors\n",
    "        source_labels_oh = nn.functional.one_hot(source_labels, nclasses+1).float().to(device)\n",
    "        target_labels_oh = source_labels_oh.scatter(1, torch.LongTensor(batch_size, 1).fill_(nclasses).to(device), 1)\n",
    "        \n",
    "        # sample latent noise batch\n",
    "        latent_batch = torch.FloatTensor(batch_size, latent_dim, 1, 1).normal_(0, 1).to(device)\n",
    "        \n",
    "        # compute emeddings from source images\n",
    "        source_embedding = F(source_images).view(batch_size, -1)\n",
    "        source_embedding_cat = torch.cat((source_labels_oh, source_embedding), 1)\n",
    "        source_embedding_cat = source_embedding_cat.view(batch_size, -1, 1, 1)\n",
    "        source_embedding_cat = torch.cat((source_embedding_cat, latent_batch), 1)\n",
    "        \n",
    "        # compute emeddings from target images\n",
    "        target_embedding = F(target_images).view(batch_size, -1)\n",
    "        target_embedding_cat = torch.cat((target_labels_oh, target_embedding), 1)\n",
    "        target_embedding_cat = target_embedding_cat.view(batch_size, -1, 1, 1)\n",
    "        target_embedding_cat = torch.cat((target_embedding_cat, latent_batch), 1)\n",
    "        \n",
    "        # generate samples from concatentated embeddings\n",
    "        source_generated_samples = G(source_embedding_cat)\n",
    "        target_generated_samples = G(target_embedding_cat)\n",
    "        \n",
    "        '''\n",
    "        Update D\n",
    "        '''\n",
    "        D.zero_grad()\n",
    "\n",
    "        # compute discriminator losses on real source images\n",
    "        source_real_dis, source_real_clf = D(source_images)\n",
    "        source_D_dis_loss_real = criterion_dis(source_real_dis, real_labels)\n",
    "        source_D_clf_loss_real = criterion_clf(source_real_clf, source_labels)\n",
    "        \n",
    "        # compute discriminator losses on fake source images\n",
    "        source_fake_dis, source_fake_clf = D(source_generated_samples)\n",
    "        source_D_dis_loss_fake = criterion_dis(source_fake_dis, fake_labels)\n",
    "        \n",
    "        # compute discriminator losses on fake target images\n",
    "        target_fake_dis, target_fake_clf = D(target_generated_samples)\n",
    "        target_D_d_loss_fake = criterion_dis(target_fake_dis, fake_labels)\n",
    "        \n",
    "        # perform D optimization step\n",
    "        D_loss = source_D_dis_loss_real + source_D_clf_loss_real + source_D_dis_loss_fake + target_D_d_loss_fake\n",
    "        D_loss.backward(retain_graph=True)\n",
    "        optimizerD.step()\n",
    "    \n",
    "        '''\n",
    "        Update G\n",
    "        '''\n",
    "        G.zero_grad()\n",
    "        \n",
    "        # compute generator losses\n",
    "        source_fake_dis, source_fake_clf = D(source_generated_samples)\n",
    "        source_D_dis_loss_fake = criterion_dis(source_fake_dis, real_labels)\n",
    "        source_D_clf_loss_fake = criterion_clf(source_fake_clf, source_labels)\n",
    "        \n",
    "        # perform G optimization step\n",
    "        G_loss = source_D_dis_loss_fake + source_D_clf_loss_fake\n",
    "        G_loss.backward(retain_graph=True)\n",
    "        optimizerG.step()\n",
    "        \n",
    "        '''\n",
    "        Update C\n",
    "        '''\n",
    "        C.zero_grad()\n",
    "        \n",
    "        # compute classifier losses\n",
    "        source_clf = C(source_embedding)\n",
    "        C_loss = criterion_clf(source_clf, source_labels)\n",
    "        \n",
    "        # perform G optimization step\n",
    "        C_loss.backward(retain_graph=True)\n",
    "        optimizerC.step()\n",
    "        \n",
    "        '''\n",
    "        Update F\n",
    "        '''\n",
    "        F.zero_grad()\n",
    "        \n",
    "        # compute encoder loss from updated classifier\n",
    "        source_clf = C(source_embedding)\n",
    "        C_loss = criterion_clf(source_clf, source_labels)\n",
    "        \n",
    "        # re-generate samples using updated generator\n",
    "        source_generated_samples = G(source_embedding_cat)\n",
    "        target_generated_samples = G(target_embedding_cat)\n",
    "\n",
    "        # compute encoder loss from GAN\n",
    "        source_fake_dis, source_fake_clf = D(source_generated_samples)\n",
    "        source_D_clf_loss_fake = criterion_clf(source_fake_clf, source_labels)\n",
    "        \n",
    "        target_fake_dis, target_fake_clf = D(target_generated_samples)\n",
    "        target_D_dis_loss_fake = criterion_dis(target_fake_dis, real_labels)\n",
    "        \n",
    "        # perform F optimization step\n",
    "        F_loss = C_loss + adv_weight * (source_D_clf_loss_fake + alpha * target_D_dis_loss_fake)\n",
    "        F_loss.backward(retain_graph=True)\n",
    "        optimizerF.step()\n",
    "        \n",
    "        '''\n",
    "        Bookkeeping\n",
    "        '''\n",
    "        losses['D'].append(D_loss.item())\n",
    "        losses['G'].append(G_loss.item())\n",
    "        losses['F'].append(F_loss.item())\n",
    "        losses['C'].append(C_loss.item())\n",
    "        \n",
    "    F.eval()\n",
    "    C.eval()\n",
    "    correct, total = [], []\n",
    "    for it, (images, labels) in enumerate(source_validation_loader):\n",
    "        images, labels = images.to(device), labels.to(device)\n",
    "        embeddings = F(images).squeeze()\n",
    "        predictions = C(embeddings)\n",
    "        correct.append(torch.sum(torch.argmax(predictions, 1) == labels).item())\n",
    "        total.append(len(images))\n",
    "    accuracy.append(sum(correct)/sum(total))"
   ]
  },
  {
   "cell_type": "code",
   "execution_count": 20,
   "metadata": {},
   "outputs": [
    {
     "data": {
      "image/png": "[encoded data removed]",
      "text/plain": [
       "<Figure size 432x288 with 1 Axes>"
      ]
     },
     "metadata": {
      "needs_background": "light"
     },
     "output_type": "display_data"
    }
   ],
   "source": [
    "plt.plot(losses['C'])\n",
    "plt.show()"
   ]
  },
  {
   "cell_type": "code",
   "execution_count": 21,
   "metadata": {},
   "outputs": [
    {
     "data": {
      "image/png": "[encoded data removed]",
      "text/plain": [
       "<Figure size 432x288 with 1 Axes>"
      ]
     },
     "metadata": {
      "needs_background": "light"
     },
     "output_type": "display_data"
    }
   ],
   "source": [
    "plt.plot(accuracy)\n",
    "plt.show()"
   ]
  }
 ],
 "metadata": {
  "kernelspec": {
   "display_name": "Python 3",
   "language": "python",
   "name": "python3"
  },
  "language_info": {
   "codemirror_mode": {
    "name": "ipython",
    "version": 3
   },
   "file_extension": ".py",
   "mimetype": "text/x-python",
   "name": "python",
   "nbconvert_exporter": "python",
   "pygments_lexer": "ipython3",
   "version": "3.6.8"
  }
 },
 "nbformat": 4,
 "nbformat_minor": 2
}
