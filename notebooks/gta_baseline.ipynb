{
 "cells": [
  {
   "cell_type": "code",
   "execution_count": 1,
   "metadata": {},
   "outputs": [],
   "source": [
    "import torch\n",
    "import torch.nn as nn\n",
    "import torch.optim as optim\n",
    "from torch.autograd import Variable\n",
    "from torch.utils.data import DataLoader\n",
    "from torchvision.datasets import MNIST, SVHN\n",
    "from torchvision.transforms import Compose, ToTensor, Resize, Normalize, Grayscale\n",
    "import numpy as np\n",
    "import matplotlib.pyplot as plt"
   ]
  },
  {
   "cell_type": "code",
   "execution_count": 2,
   "metadata": {},
   "outputs": [],
   "source": [
    "device = 'cuda:1'"
   ]
  },
  {
   "cell_type": "code",
   "execution_count": 3,
   "metadata": {},
   "outputs": [],
   "source": [
    "def weights_init(layer):\n",
    "    classname = layer.__class__.__name__\n",
    "    if classname.find('Conv') != -1:\n",
    "        layer.weight.data.normal_(0.0, 0.02)\n",
    "    elif classname.find('BatchNorm') != -1:\n",
    "        layer.weight.data.normal_(1.0, 0.02)\n",
    "        layer.bias.data.fill_(0)\n",
    "    elif classname.find('Linear') != -1:\n",
    "        size = layer.weight.size()\n",
    "        layer.weight.data.normal_(0.0, 0.1)\n",
    "        layer.bias.data.fill_(0)"
   ]
  },
  {
   "cell_type": "code",
   "execution_count": 4,
   "metadata": {},
   "outputs": [],
   "source": [
    "seed = 0\n",
    "width = 32\n",
    "channels = 3\n",
    "batch_size = 100\n",
    "epochs = 10\n",
    "\n",
    "filters = 64\n",
    "embedding_dim = 128\n",
    "lr = 0.0005\n",
    "beta1 = 0.8"
   ]
  },
  {
   "cell_type": "code",
   "execution_count": 5,
   "metadata": {},
   "outputs": [],
   "source": [
    "_ = torch.manual_seed(seed)\n",
    "torch.cuda.manual_seed_all(seed)"
   ]
  },
  {
   "cell_type": "code",
   "execution_count": 6,
   "metadata": {},
   "outputs": [],
   "source": [
    "transform = Compose([Resize(width), Grayscale(channels), ToTensor(), Normalize([0.5]*channels, [0.5]*channels)])"
   ]
  },
  {
   "cell_type": "code",
   "execution_count": 7,
   "metadata": {},
   "outputs": [],
   "source": [
    "source_train = SVHN(root='../datasets/', transform=transform, split='train')\n",
    "source_validation = SVHN(root='../datasets/', transform=transform, split='test')\n",
    "nclasses = len(set(source_train.labels))"
   ]
  },
  {
   "cell_type": "code",
   "execution_count": 8,
   "metadata": {},
   "outputs": [],
   "source": [
    "# Encoder\n",
    "F = nn.Sequential(\n",
    "    nn.Conv2d(channels, filters, 5, 1, 0),\n",
    "    nn.ReLU(inplace=True),\n",
    "    nn.MaxPool2d(2, 2),\n",
    "    nn.Conv2d(filters, filters, 5, 1, 0),\n",
    "    nn.ReLU(inplace=True),\n",
    "    nn.MaxPool2d(2, 2),\n",
    "    nn.Conv2d(filters, embedding_dim, 5, 1,0),\n",
    "    nn.ReLU(inplace=True)\n",
    ").apply(weights_init).to(device)"
   ]
  },
  {
   "cell_type": "code",
   "execution_count": 9,
   "metadata": {},
   "outputs": [],
   "source": [
    "# Classifier\n",
    "C = nn.Sequential(\n",
    "    nn.Linear(2*filters, 2*filters),\n",
    "    nn.ReLU(inplace=True),\n",
    "    nn.Linear(2*filters, nclasses),      \n",
    ").apply(weights_init).to(device)"
   ]
  },
  {
   "cell_type": "code",
   "execution_count": 10,
   "metadata": {},
   "outputs": [],
   "source": [
    "criterion_clf = nn.CrossEntropyLoss().to(device)"
   ]
  },
  {
   "cell_type": "code",
   "execution_count": 11,
   "metadata": {},
   "outputs": [],
   "source": [
    "optimizerF = optim.Adam(F.parameters(), lr=lr, betas=(beta1, 0.999))\n",
    "optimizerC = optim.Adam(C.parameters(), lr=lr, betas=(beta1, 0.999))"
   ]
  },
  {
   "cell_type": "code",
   "execution_count": 12,
   "metadata": {},
   "outputs": [],
   "source": [
    "source_train_loader = DataLoader(source_train, batch_size=batch_size, shuffle=True, drop_last=True)\n",
    "source_validation_loader = DataLoader(source_validation, batch_size=batch_size, shuffle=True, drop_last=False)"
   ]
  },
  {
   "cell_type": "code",
   "execution_count": 13,
   "metadata": {},
   "outputs": [],
   "source": [
    "losses = {\n",
    "    'F': [],\n",
    "    'C': []\n",
    "}\n",
    "accuracy = []"
   ]
  },
  {
   "cell_type": "code",
   "execution_count": 14,
   "metadata": {},
   "outputs": [],
   "source": [
    "for _ in range(epochs):\n",
    "    F.train()\n",
    "    C.train()\n",
    "    for it, source_batch in enumerate(source_train_loader):\n",
    "        '''\n",
    "        Pre-processing\n",
    "        '''\n",
    "        source_images, source_labels = map(lambda v: v.to(device), source_batch)   \n",
    "        \n",
    "        # compute one-hot vectors\n",
    "        source_labels_oh = nn.functional.one_hot(source_labels, nclasses+1).float().to(device)\n",
    "        \n",
    "        # compute emeddings from source images\n",
    "        source_embedding = F(source_images).view(batch_size, -1)\n",
    "    \n",
    "        '''\n",
    "        Update C\n",
    "        '''\n",
    "        C.zero_grad()\n",
    "        \n",
    "        # compute classifier losses\n",
    "        source_clf = C(source_embedding)\n",
    "        C_loss = criterion_clf(source_clf, source_labels)\n",
    "        \n",
    "        # perform G optimization step\n",
    "        C_loss.backward(retain_graph=True)\n",
    "        optimizerC.step()\n",
    "        \n",
    "        '''\n",
    "        Update F\n",
    "        '''\n",
    "        F.zero_grad()\n",
    "        \n",
    "        # compute encoder loss from updated classifier\n",
    "        source_clf = C(source_embedding)\n",
    "        C_loss = criterion_clf(source_clf, source_labels)\n",
    "        F_loss = C_loss\n",
    "        F_loss.backward(retain_graph=True)\n",
    "        optimizerF.step()\n",
    "        \n",
    "        '''\n",
    "        Bookkeeping\n",
    "        '''\n",
    "        losses['F'].append(F_loss.item())\n",
    "        losses['C'].append(C_loss.item())\n",
    "        \n",
    "    F.eval()\n",
    "    C.eval()\n",
    "    \n",
    "    correct, total = [], []\n",
    "    for it, (images, labels) in enumerate(source_validation_loader):\n",
    "        images, labels = images.to(device), labels.to(device)\n",
    "        embeddings = F(images).squeeze()\n",
    "        predictions = C(embeddings)\n",
    "        correct.append(torch.sum(torch.argmax(predictions, 1) == labels).item())\n",
    "        total.append(len(images))\n",
    "    accuracy.append(sum(correct)/sum(total))"
   ]
  },
  {
   "cell_type": "code",
   "execution_count": 15,
   "metadata": {},
   "outputs": [
    {
     "data": {
      "image/png": "[encoded data removed]",
      "text/plain": [
       "<Figure size 432x288 with 1 Axes>"
      ]
     },
     "metadata": {
      "needs_background": "light"
     },
     "output_type": "display_data"
    }
   ],
   "source": [
    "plt.plot(losses['C'])\n",
    "plt.show()"
   ]
  },
  {
   "cell_type": "code",
   "execution_count": 16,
   "metadata": {},
   "outputs": [
    {
     "data": {
      "image/png": "[encoded data removed]",
      "text/plain": [
       "<Figure size 432x288 with 1 Axes>"
      ]
     },
     "metadata": {
      "needs_background": "light"
     },
     "output_type": "display_data"
    }
   ],
   "source": [
    "plt.plot(accuracy)\n",
    "plt.show()"
   ]
  }
 ],
 "metadata": {
  "kernelspec": {
   "display_name": "Python 3",
   "language": "python",
   "name": "python3"
  },
  "language_info": {
   "codemirror_mode": {
    "name": "ipython",
    "version": 3
   },
   "file_extension": ".py",
   "mimetype": "text/x-python",
   "name": "python",
   "nbconvert_exporter": "python",
   "pygments_lexer": "ipython3",
   "version": "3.6.8"
  }
 },
 "nbformat": 4,
 "nbformat_minor": 2
}
